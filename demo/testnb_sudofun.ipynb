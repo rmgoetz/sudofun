{
 "cells": [
  {
   "cell_type": "markdown",
   "metadata": {},
   "source": [
    "# sudofun Package\n",
    "\n",
    "This package is intended to provide tools for solving sudoku puzzles. Run the following cell to import `sudofun` and solve an example puzzle:\n"
   ]
  },
  {
   "cell_type": "code",
   "execution_count": 1,
   "metadata": {},
   "outputs": [
    {
     "name": "stdin",
     "output_type": "stream",
     "text": [
      "Enter the directory of the sudofun package:  C:\\Users\\Ryan\\Documents\\Git\\sudofun\n"
     ]
    },
    {
     "name": "stdout",
     "output_type": "stream",
     "text": [
      "\n",
      "Input Puzzle:\n",
      "\n",
      "\n",
      "[0, 7, 0] | [0, 4, 5] | [0, 0, 0]\n",
      "[9, 2, 0] | [0, 0, 0] | [1, 0, 0]\n",
      "[0, 0, 5] | [0, 0, 8] | [0, 0, 7]\n",
      "---------------------------------\n",
      "[0, 0, 0] | [0, 0, 0] | [6, 9, 0]\n",
      "[0, 0, 0] | [7, 0, 0] | [0, 0, 0]\n",
      "[0, 1, 0] | [4, 5, 0] | [0, 0, 0]\n",
      "---------------------------------\n",
      "[2, 0, 0] | [0, 0, 0] | [4, 6, 0]\n",
      "[0, 0, 0] | [0, 0, 0] | [0, 0, 1]\n",
      "[6, 9, 0] | [0, 2, 0] | [0, 3, 0]\n",
      "\n",
      "\n",
      "\n",
      "Calculation time:  0.11552071571350098 s\n",
      "Reduction loops:  145\n",
      "\n",
      "Solved Puzzle:\n",
      "\n",
      "\n",
      "[8, 7, 3] | [1, 4, 5] | [9, 2, 6]\n",
      "[9, 2, 4] | [6, 7, 3] | [1, 5, 8]\n",
      "[1, 6, 5] | [2, 9, 8] | [3, 4, 7]\n",
      "---------------------------------\n",
      "[7, 5, 2] | [3, 8, 1] | [6, 9, 4]\n",
      "[4, 8, 9] | [7, 6, 2] | [5, 1, 3]\n",
      "[3, 1, 6] | [4, 5, 9] | [8, 7, 2]\n",
      "---------------------------------\n",
      "[2, 3, 8] | [5, 1, 7] | [4, 6, 9]\n",
      "[5, 4, 7] | [9, 3, 6] | [2, 8, 1]\n",
      "[6, 9, 1] | [8, 2, 4] | [7, 3, 5]\n"
     ]
    }
   ],
   "source": [
    "import os\n",
    "sf_directory = input('Enter the directory of the sudofun package: ')\n",
    "os.chdir(sf_directory)\n",
    "import sudofun\n",
    "clue_filename = sf_directory+'/test_files/testpuzzle_sudofun.txt'\n",
    "clue_file = open(clue_filename,'r')\n",
    "clue = clue_file.read()\n",
    "clue_file.close()\n",
    "sudofun.solve(clue,verbose=True)"
   ]
  },
  {
   "cell_type": "markdown",
   "metadata": {},
   "source": [
    "If you only wish to see the solved puzzle output, simple leave out the `verbose` argument. You can still see how much time the calculation took, or how many loops of the reduction algorithm made by using the keyword argument assignments `timer=True` and `loops=True`, respectively.  \n",
    "\n",
    "The sudofun solver represents the space of potential remaining values for a cell with a number. Specifically, the binary expression for the number that a cell is assigned corresponds to which values it can take. For example, assigning a cell the number 134, expressed in binary as:   \n",
    "$100000110$   \n",
    "would mean that--to this point in the puzzle solving process--the cell is still allowed to contain either a 2, 3, or 9. As a consequence of this representation, `sudofun` has some fun binary-related features:"
   ]
  },
  {
   "cell_type": "code",
   "execution_count": 2,
   "metadata": {},
   "outputs": [
    {
     "name": "stdout",
     "output_type": "stream",
     "text": [
      "0 = 000000  has  0  nonzero bits\n",
      "6 = 000110  has  2  nonzero bits\n",
      "12 = 001100  has  2  nonzero bits\n",
      "18 = 010010  has  2  nonzero bits\n",
      "24 = 011000  has  2  nonzero bits\n",
      "30 = 011110  has  4  nonzero bits\n",
      "36 = 100100  has  2  nonzero bits\n",
      "42 = 101010  has  3  nonzero bits\n",
      "48 = 110000  has  2  nonzero bits\n",
      "54 = 110110  has  4  nonzero bits\n"
     ]
    }
   ],
   "source": [
    "for n in range(10):\n",
    "    print(6*n,'=',bin(6*n)[2:].zfill(6),' has ',sudofun.countbits(6*n),' nonzero bits')"
   ]
  },
  {
   "cell_type": "markdown",
   "metadata": {},
   "source": [
    "  \n",
    "If you prefer, you can view the puzzles in base 2, although you might want a wide screen to view it:"
   ]
  },
  {
   "cell_type": "code",
   "execution_count": 3,
   "metadata": {},
   "outputs": [
    {
     "name": "stdout",
     "output_type": "stream",
     "text": [
      "\n",
      "Input Puzzle:\n",
      "\n",
      "\n",
      "['111111111', '001000000', '111111111'] | ['111111111', '000001000', '000010000'] | ['111111111', '111111111', '111111111']\n",
      "['100000000', '000000010', '111111111'] | ['111111111', '111111111', '111111111'] | ['000000001', '111111111', '111111111']\n",
      "['111111111', '111111111', '000010000'] | ['111111111', '111111111', '010000000'] | ['111111111', '111111111', '001000000']\n",
      "---------------------------------------------------------------------------------------------------------------------------\n",
      "['111111111', '111111111', '111111111'] | ['111111111', '111111111', '111111111'] | ['000100000', '100000000', '111111111']\n",
      "['111111111', '111111111', '111111111'] | ['001000000', '111111111', '111111111'] | ['111111111', '111111111', '111111111']\n",
      "['111111111', '000000001', '111111111'] | ['000001000', '000010000', '111111111'] | ['111111111', '111111111', '111111111']\n",
      "---------------------------------------------------------------------------------------------------------------------------\n",
      "['000000010', '111111111', '111111111'] | ['111111111', '111111111', '111111111'] | ['000001000', '000100000', '111111111']\n",
      "['111111111', '111111111', '111111111'] | ['111111111', '111111111', '111111111'] | ['111111111', '111111111', '000000001']\n",
      "['000100000', '100000000', '111111111'] | ['111111111', '000000010', '111111111'] | ['111111111', '000000100', '111111111']\n",
      "\n",
      "\n",
      "\n",
      "Calculation time:  0.18000340461730957 s\n",
      "Reduction loops:  145\n",
      "\n",
      "Solved Puzzle:\n",
      "\n",
      "\n",
      "['010000000', '001000000', '000000100'] | ['000000001', '000001000', '000010000'] | ['100000000', '000000010', '000100000']\n",
      "['100000000', '000000010', '000001000'] | ['000100000', '001000000', '000000100'] | ['000000001', '000010000', '010000000']\n",
      "['000000001', '000100000', '000010000'] | ['000000010', '100000000', '010000000'] | ['000000100', '000001000', '001000000']\n",
      "---------------------------------------------------------------------------------------------------------------------------\n",
      "['001000000', '000010000', '000000010'] | ['000000100', '010000000', '000000001'] | ['000100000', '100000000', '000001000']\n",
      "['000001000', '010000000', '100000000'] | ['001000000', '000100000', '000000010'] | ['000010000', '000000001', '000000100']\n",
      "['000000100', '000000001', '000100000'] | ['000001000', '000010000', '100000000'] | ['010000000', '001000000', '000000010']\n",
      "---------------------------------------------------------------------------------------------------------------------------\n",
      "['000000010', '000000100', '010000000'] | ['000010000', '000000001', '001000000'] | ['000001000', '000100000', '100000000']\n",
      "['000010000', '000001000', '001000000'] | ['100000000', '000000100', '000100000'] | ['000000010', '010000000', '000000001']\n",
      "['000100000', '100000000', '000000001'] | ['010000000', '000000010', '000001000'] | ['001000000', '000000100', '000010000']\n"
     ]
    }
   ],
   "source": [
    "sudofun.solve(clue,verbose=True,binform=True)"
   ]
  },
  {
   "cell_type": "markdown",
   "metadata": {},
   "source": [
    "    \n",
    "    \n",
    "While `solve` will at times test different values for cells that its simpler logical processes cannot solve, it does not guess at values. If given a puzzle that does not have a unique solution, the solver will leave the non-determined cells blank (denoted by a zero): "
   ]
  },
  {
   "cell_type": "code",
   "execution_count": 4,
   "metadata": {},
   "outputs": [
    {
     "name": "stdout",
     "output_type": "stream",
     "text": [
      "\n",
      "Input Puzzle:\n",
      "\n",
      "\n",
      "[1, 9, 0] | [0, 0, 0] | [0, 8, 4]\n",
      "[0, 0, 0] | [6, 1, 0] | [0, 0, 0]\n",
      "[3, 2, 0] | [0, 9, 0] | [0, 0, 1]\n",
      "---------------------------------\n",
      "[7, 0, 0] | [0, 4, 3] | [0, 5, 0]\n",
      "[8, 0, 0] | [0, 6, 0] | [0, 0, 0]\n",
      "[0, 4, 3] | [0, 7, 0] | [2, 1, 0]\n",
      "---------------------------------\n",
      "[2, 0, 0] | [0, 0, 0] | [1, 0, 0]\n",
      "[4, 1, 0] | [0, 0, 7] | [0, 0, 3]\n",
      "[0, 0, 0] | [0, 3, 1] | [0, 0, 8]\n",
      "\n",
      "\n",
      "\n",
      "Calculation time:  0.010996818542480469 s\n",
      "Reduction loops:  19\n",
      "\n",
      "Solved Puzzle:\n",
      "\n",
      "\n",
      "[1, 9, 6] | [3, 5, 2] | [7, 8, 4]\n",
      "[5, 8, 7] | [6, 1, 4] | [9, 3, 2]\n",
      "[3, 2, 4] | [7, 9, 8] | [5, 6, 1]\n",
      "---------------------------------\n",
      "[7, 6, 0] | [0, 4, 3] | [8, 5, 9]\n",
      "[8, 5, 0] | [0, 6, 9] | [3, 4, 7]\n",
      "[9, 4, 3] | [8, 7, 5] | [2, 1, 6]\n",
      "---------------------------------\n",
      "[2, 3, 9] | [4, 8, 6] | [1, 7, 5]\n",
      "[4, 1, 8] | [5, 2, 7] | [6, 9, 3]\n",
      "[6, 7, 5] | [9, 3, 1] | [4, 2, 8]\n"
     ]
    }
   ],
   "source": [
    "bad_clue_filename = clue_filename[:-22]+'incompletepuzzle_sudofun.txt'\n",
    "bad_clue_file = open(bad_clue_filename,'r')\n",
    "bad_clue = bad_clue_file.read()\n",
    "bad_clue_file.close()\n",
    "sudofun.solve(bad_clue,verbose=True)"
   ]
  },
  {
   "cell_type": "markdown",
   "metadata": {},
   "source": [
    "  \n",
    "  \n",
    "Many other sources of sudoku puzzles will list puzzle clues in longform. As an example, the (incomplete) clue in the previous cell might be expressed elsewhere as the following 81 character string:  \n",
    "$190000084000610000320090001700043050800060000043070210200000100410007003000031008$  \n",
    "In some cases, the zeros might be replaced by periods. While this form is quite clunky, it is unfortunately popular, and so the `sudofun` package comes with a built-in function to convert string clues in this form to the proper package form:"
   ]
  },
  {
   "cell_type": "code",
   "execution_count": 5,
   "metadata": {},
   "outputs": [
    {
     "name": "stdout",
     "output_type": "stream",
     "text": [
      "Old form:  190000084000610000320090001700043050800060000043070210200000100410007003000031008 \n",
      "\n",
      "Converted form:  111:129:188:194:246:251:313:322:359:391:417:454:463:485:518:556:624:633:657:672:681:712:771:814:821:867:893:953:961:998\n"
     ]
    }
   ],
   "source": [
    "uglyclue = '190000084000610000320090001700043050800060000043070210200000100410007003000031008'\n",
    "prettyclue = sudofun.convert(uglyclue)\n",
    "print('Old form: ',uglyclue,'\\n')\n",
    "print('Converted form: ',prettyclue)"
   ]
  },
  {
   "cell_type": "code",
   "execution_count": null,
   "metadata": {},
   "outputs": [],
   "source": []
  }
 ],
 "metadata": {
  "kernelspec": {
   "display_name": "Python 3 (ipykernel)",
   "language": "python",
   "name": "python3"
  },
  "language_info": {
   "codemirror_mode": {
    "name": "ipython",
    "version": 3
   },
   "file_extension": ".py",
   "mimetype": "text/x-python",
   "name": "python",
   "nbconvert_exporter": "python",
   "pygments_lexer": "ipython3",
   "version": "3.7.13"
  }
 },
 "nbformat": 4,
 "nbformat_minor": 4
}
